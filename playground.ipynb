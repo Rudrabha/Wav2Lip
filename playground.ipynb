{
 "cells": [
  {
   "cell_type": "code",
   "execution_count": null,
   "metadata": {},
   "outputs": [],
   "source": [
    "pip install numpy opencv-python torch"
   ]
  },
  {
   "cell_type": "code",
   "execution_count": 5,
   "metadata": {},
   "outputs": [
    {
     "data": {
      "text/plain": [
       "array([1, 2, 3, 4, 5, 6, 7])"
      ]
     },
     "execution_count": 5,
     "metadata": {},
     "output_type": "execute_result"
    }
   ],
   "source": [
    "# 一维的向量合并, axis = 0 意思是在x轴合并\n",
    "\n",
    "import numpy as np\n",
    "a = np.array([1,2,3])\n",
    "b = np.array([4,5,6,7])\n",
    "np.concatenate((a, b), axis=0)"
   ]
  },
  {
   "cell_type": "code",
   "execution_count": 6,
   "metadata": {},
   "outputs": [
    {
     "data": {
      "text/plain": [
       "array([[1, 2],\n",
       "       [3, 4],\n",
       "       [5, 6]])"
      ]
     },
     "execution_count": 6,
     "metadata": {},
     "output_type": "execute_result"
    }
   ],
   "source": [
    "# 二维的向量合并, axis = 0 意思是在x轴合并\n",
    "import numpy as np\n",
    "\n",
    "a = np.array([[1, 2], [3, 4]])\n",
    "b = np.array([[5, 6]])\n",
    "np.concatenate((a, b), axis=0)"
   ]
  },
  {
   "cell_type": "code",
   "execution_count": 7,
   "metadata": {},
   "outputs": [
    {
     "data": {
      "text/plain": [
       "array([[1, 2, 3, 5, 6],\n",
       "       [3, 4, 5, 7, 8]])"
      ]
     },
     "execution_count": 7,
     "metadata": {},
     "output_type": "execute_result"
    }
   ],
   "source": [
    "# 二维的向量合并, axis = 1 意思是在y轴合并, 在Y轴上的elements合并在一起,注意，columns必须相同才能合并\n",
    "import numpy as np\n",
    "\n",
    "a = np.array([[1, 2, 3], [3, 4, 5]])\n",
    "b = np.array([[5, 6], [7,8]])\n",
    "np.concatenate((a, b), axis=1)"
   ]
  },
  {
   "cell_type": "code",
   "execution_count": 35,
   "metadata": {},
   "outputs": [
    {
     "data": {
      "text/plain": [
       "array([[[1, 2, 2, 3],\n",
       "        [3, 4, 3, 4]],\n",
       "\n",
       "       [[5, 6, 1, 2],\n",
       "        [7, 8, 3, 4]],\n",
       "\n",
       "       [[9, 1, 1, 2],\n",
       "        [1, 1, 3, 4]]])"
      ]
     },
     "execution_count": 35,
     "metadata": {},
     "output_type": "execute_result"
    }
   ],
   "source": [
    "# 三维的向量合并, axis = 2，意思是去到最小单位的数组进行elements合并\n",
    "import numpy as np\n",
    "\n",
    "a = np.array([[[1, 2], [3, 4]],\n",
    "              [[5, 6], [7, 8]],\n",
    "              [[9, 1], [1, 1]]])\n",
    "\n",
    "b = np.array([[[2, 3], [3, 4]],\n",
    "              [[1, 2], [3, 4]],\n",
    "              [[1, 2], [3, 4]]])\n",
    "np.concatenate((a, b), axis=2)\n",
    "\n"
   ]
  },
  {
   "cell_type": "code",
   "execution_count": 7,
   "metadata": {},
   "outputs": [
    {
     "data": {
      "text/plain": [
       "array([[1, 3],\n",
       "       [2, 4]])"
      ]
     },
     "execution_count": 7,
     "metadata": {},
     "output_type": "execute_result"
    }
   ],
   "source": [
    "import numpy as np\n",
    "\n",
    "a = np.array([[1, 2], [3, 4]])\n",
    "b = np.array([[5, 6]])\n",
    "np.concatenate((a, b.T), axis=1)\n",
    "\n",
    "b.T\n",
    "a.T"
   ]
  },
  {
   "cell_type": "code",
   "execution_count": 2,
   "metadata": {},
   "outputs": [
    {
     "ename": "ModuleNotFoundError",
     "evalue": "No module named 'torch'",
     "output_type": "error",
     "traceback": [
      "\u001b[0;31m---------------------------------------------------------------------------\u001b[0m",
      "\u001b[0;31mModuleNotFoundError\u001b[0m                       Traceback (most recent call last)",
      "Cell \u001b[0;32mIn[2], line 1\u001b[0m\n\u001b[0;32m----> 1\u001b[0m \u001b[38;5;28;01mimport\u001b[39;00m \u001b[38;5;21;01mtorch\u001b[39;00m\n\u001b[1;32m      2\u001b[0m torch\u001b[38;5;241m.\u001b[39mones(\u001b[38;5;241m1\u001b[39m)\u001b[38;5;241m.\u001b[39mfloat()\n",
      "\u001b[0;31mModuleNotFoundError\u001b[0m: No module named 'torch'"
     ]
    }
   ],
   "source": [
    "import torch\n",
    "torch.ones(1).float()"
   ]
  },
  {
   "cell_type": "code",
   "execution_count": 8,
   "metadata": {},
   "outputs": [
    {
     "data": {
      "text/plain": [
       "tensor([1.])"
      ]
     },
     "execution_count": 8,
     "metadata": {},
     "output_type": "execute_result"
    }
   ],
   "source": [
    "import torch\n",
    "torch.tensor([1.]).float()"
   ]
  },
  {
   "cell_type": "code",
   "execution_count": 33,
   "metadata": {},
   "outputs": [
    {
     "name": "stdout",
     "output_type": "stream",
     "text": [
      "A\n",
      "1\n"
     ]
    }
   ],
   "source": [
    "epoch = 902\n",
    "\n",
    "if (epoch // 50) % 2 == 0:\n",
    "        print('A')\n",
    "else:\n",
    "        print('B')\n",
    "\n",
    "loss = print(1) if (epoch // 50) % 2 == 0 else print(2)"
   ]
  },
  {
   "cell_type": "code",
   "execution_count": 23,
   "metadata": {},
   "outputs": [
    {
     "name": "stdout",
     "output_type": "stream",
     "text": [
      "The window shape (2, 384, 512, 3)\n",
      "The transpose window shape (3, 2, 384, 512)\n"
     ]
    },
    {
     "data": {
      "text/plain": [
       "True"
      ]
     },
     "execution_count": 23,
     "metadata": {},
     "output_type": "execute_result"
    }
   ],
   "source": [
    "import cv2\n",
    "import numpy as np\n",
    "\n",
    "# Read the image\n",
    "image = cv2.imread('1.png')\n",
    "image2 = cv2.imread('2.png')\n",
    "\n",
    "# Create a window list and append the image\n",
    "window = []\n",
    "window.append(image)\n",
    "window.append(image2)\n",
    "\n",
    "# Convert the list to a NumPy array and transpose the dimensions\n",
    "window = np.array(window)\n",
    "print('The window shape',window.shape)\n",
    "\n",
    "window = np.transpose(window, (3, 0, 1, 2))\n",
    "\n",
    "# Set the latter half of the channels to zero\n",
    "window[:, :, window.shape[2]//2:] = 255.\n",
    "print('The transpose window shape',window.shape)\n",
    "\n",
    "# Transpose back to the original dimensions\n",
    "window = np.transpose(window, (1, 2, 3, 0))\n",
    "\n",
    "# Convert the 4D array back to 3D by selecting the first image in the batch\n",
    "output_image = window[0]\n",
    "\n",
    "# Save the modified image\n",
    "cv2.imwrite('out1.png', output_image)\n",
    "cv2.imwrite('out2.png', window[1])\n"
   ]
  },
  {
   "cell_type": "code",
   "execution_count": 32,
   "metadata": {},
   "outputs": [
    {
     "data": {
      "text/plain": [
       "tensor([[1.],\n",
       "        [1.],\n",
       "        [0.],\n",
       "        [0.]])"
      ]
     },
     "execution_count": 32,
     "metadata": {},
     "output_type": "execute_result"
    }
   ],
   "source": [
    "import torch\n",
    "\n",
    "y = [1,1,0,0]\n",
    "y_tensor = torch.FloatTensor(y)\n",
    "y_tensor\n",
    "\n",
    "y_tensor.unsqueeze(1)"
   ]
  }
 ],
 "metadata": {
  "kernelspec": {
   "display_name": "nanoGPT",
   "language": "python",
   "name": "python3"
  },
  "language_info": {
   "codemirror_mode": {
    "name": "ipython",
    "version": 3
   },
   "file_extension": ".py",
   "mimetype": "text/x-python",
   "name": "python",
   "nbconvert_exporter": "python",
   "pygments_lexer": "ipython3",
   "version": "3.12.4"
  }
 },
 "nbformat": 4,
 "nbformat_minor": 2
}
